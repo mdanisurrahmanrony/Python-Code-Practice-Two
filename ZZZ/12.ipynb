{
 "cells": [
  {
   "cell_type": "code",
   "execution_count": 4,
   "metadata": {},
   "outputs": [],
   "source": [
    "def sum(num1,num2):\n",
    "    res = str(num1+num2)\n",
    "    print(\"Sum: \"+res)\n",
    "\n",
    "def product(num1,num2):\n",
    "    res = str(num1*num2)\n",
    "    print(\"Product: \"+res)\n",
    "def difference(num1,num2):\n",
    "    res = str(num1-num2)\n",
    "    print(\"Difference: \"+res)"
   ]
  },
  {
   "cell_type": "code",
   "execution_count": 5,
   "metadata": {},
   "outputs": [
    {
     "name": "stdout",
     "output_type": "stream",
     "text": [
      "Enter first number: 9\n",
      "Enter second number: 3\n",
      "Sum: 12\n",
      "Product: 27\n",
      "Difference: 6\n"
     ]
    }
   ],
   "source": [
    "num1=int(input(\"Enter first number: \"))\n",
    "num2=int(input(\"Enter second number: \"))\n",
    "sum(num1,num2)\n",
    "product(num1,num2)\n",
    "difference(num1,num2)"
   ]
  },
  {
   "cell_type": "code",
   "execution_count": null,
   "metadata": {},
   "outputs": [],
   "source": []
  }
 ],
 "metadata": {
  "kernelspec": {
   "display_name": "Python 3",
   "language": "python",
   "name": "python3"
  },
  "language_info": {
   "codemirror_mode": {
    "name": "ipython",
    "version": 3
   },
   "file_extension": ".py",
   "mimetype": "text/x-python",
   "name": "python",
   "nbconvert_exporter": "python",
   "pygments_lexer": "ipython3",
   "version": "3.7.3"
  }
 },
 "nbformat": 4,
 "nbformat_minor": 2
}
