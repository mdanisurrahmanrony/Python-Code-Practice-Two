{
 "cells": [
  {
   "cell_type": "code",
   "execution_count": 6,
   "metadata": {},
   "outputs": [
    {
     "name": "stdout",
     "output_type": "stream",
     "text": [
      "Enter the radius of circle: 10\n",
      "Diameter: 20\n",
      "Circumference: 62.800000000000004\n",
      "Area: 314.16\n"
     ]
    }
   ],
   "source": [
    "#Diameter, D=2*r\n",
    "#Circumference, C=2*pi*r\n",
    "#Area, A=pi*r*r\n",
    "\n",
    "radius = int(input(\"Enter the radius of circle: \"))\n",
    "Diameter = str(2*radius)\n",
    "Circumference = str(2 * 3.14 * radius)\n",
    "Area = str(3.1416 * radius * radius)\n",
    "\n",
    "print(\"Diameter: \"+Diameter+\"\\nCircumference: \"+Circumference+\"\\nArea: \"+Area)"
   ]
  },
  {
   "cell_type": "code",
   "execution_count": null,
   "metadata": {},
   "outputs": [],
   "source": []
  }
 ],
 "metadata": {
  "kernelspec": {
   "display_name": "Python 3",
   "language": "python",
   "name": "python3"
  },
  "language_info": {
   "codemirror_mode": {
    "name": "ipython",
    "version": 3
   },
   "file_extension": ".py",
   "mimetype": "text/x-python",
   "name": "python",
   "nbconvert_exporter": "python",
   "pygments_lexer": "ipython3",
   "version": "3.7.3"
  }
 },
 "nbformat": 4,
 "nbformat_minor": 2
}
